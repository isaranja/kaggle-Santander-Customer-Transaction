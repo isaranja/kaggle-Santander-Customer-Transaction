{
 "cells": [
  {
   "cell_type": "code",
   "execution_count": 1,
   "metadata": {
    "_cell_guid": "b1076dfc-b9ad-4769-8c92-a6c4dae69d19",
    "_uuid": "8f2839f25d086af736a60e9eeb907d3b93b6e0e5"
   },
   "outputs": [
    {
     "name": "stderr",
     "output_type": "stream",
     "text": [
      "Using TensorFlow backend.\n"
     ]
    }
   ],
   "source": [
    "import lightgbm as lgb\n",
    "\n",
    "import warnings\n",
    "warnings.filterwarnings('ignore')\n",
    "\n",
    "import numpy as np # linear algebra\n",
    "import pandas as pd # data processing, CSV file I/O (e.g. pd.read_csv)\n",
    "\n",
    "# plotting\n",
    "import matplotlib\n",
    "import matplotlib.pyplot as plt\n",
    "\n",
    "# preprocessing\n",
    "from sklearn.preprocessing import StandardScaler, MinMaxScaler # normalization\n",
    "\n",
    "# keras packages\n",
    "from keras.models import Sequential, Model\n",
    "from keras.layers import Input, Dense, Dropout, BatchNormalization, Flatten\n",
    "\n",
    "from keras import optimizers\n",
    "\n",
    "# model selection\n",
    "from sklearn.model_selection import StratifiedKFold\n",
    "\n",
    "# evaluation\n",
    "from sklearn.metrics import confusion_matrix, accuracy_score , roc_auc_score\n",
    "\n",
    "import tensorflow as tf"
   ]
  },
  {
   "cell_type": "code",
   "execution_count": 2,
   "metadata": {
    "_uuid": "080fe8752fb10f7bd6cc11f3fd07203936188f4d"
   },
   "outputs": [],
   "source": [
    "# focal loss \n",
    "def focal_loss(alpha=0.25,gamma=5.0):\n",
    "    def focal_crossentropy(y_true, y_pred):\n",
    "        bce = K.binary_crossentropy(y_true, y_pred)\n",
    "        \n",
    "        y_pred = K.clip(y_pred, K.epsilon(), 1.- K.epsilon())\n",
    "        p_t = (y_true*y_pred) + ((1-y_true)*(1-y_pred))\n",
    "        alpha_t =  y_true*alpha + ((1-alpha)*(1-y_true))\n",
    "\n",
    "        # compute the final loss and return\n",
    "        return K.mean(alpha_t*K.pow((1-p_t), gamma)*bce, axis=-1)\n",
    "    return focal_crossentropy\n",
    "\n",
    "def auc(y_true, y_pred):\n",
    "    auc = tf.metrics.auc(y_true, y_pred,num_thresholds=10000)[1]\n",
    "    K.get_session().run(tf.local_variables_initializer())\n",
    "    return auc"
   ]
  },
  {
   "cell_type": "code",
   "execution_count": 3,
   "metadata": {
    "_uuid": "51ca8927a1c3887d306486c5ac405e8be847f434"
   },
   "outputs": [
    {
     "data": {
      "text/plain": [
       "['/job:localhost/replica:0/task:0/device:GPU:0']"
      ]
     },
     "execution_count": 3,
     "metadata": {},
     "output_type": "execute_result"
    }
   ],
   "source": [
    "from keras import backend as K\n",
    "K.tensorflow_backend._get_available_gpus()"
   ]
  },
  {
   "cell_type": "code",
   "execution_count": 4,
   "metadata": {
    "_uuid": "83414f57acee5000814e2c72b59eb9b437b87abd"
   },
   "outputs": [],
   "source": [
    "test_df = pd.read_csv(\"../input/test.csv\")\n",
    "train_df = pd.read_csv(\"../input/train.csv\")\n",
    "submission = pd.read_csv(\"../input/sample_submission.csv\")"
   ]
  },
  {
   "cell_type": "code",
   "execution_count": 5,
   "metadata": {
    "_uuid": "6bd75d048a2d36257bf789a75dc1d67c88a3e026"
   },
   "outputs": [],
   "source": [
    "train_df = train_df.assign(isTrain = True)\n",
    "test_df = test_df.assign(isTrain=False)\n",
    "\n",
    "full_df = pd.concat([train_df,test_df],sort=False)"
   ]
  },
  {
   "cell_type": "code",
   "execution_count": 6,
   "metadata": {
    "_uuid": "aeba59bd8dd37539878ca7f36add82b14ee07472"
   },
   "outputs": [],
   "source": [
    "scaler = MinMaxScaler()\n",
    "X=scaler.fit_transform(full_df.loc[:,'var_0':'var_199'].values,range(-1,1))"
   ]
  },
  {
   "cell_type": "code",
   "execution_count": 7,
   "metadata": {
    "_uuid": "46d0b65c3b79a2fe850abf30c0b1e5071babfd1d"
   },
   "outputs": [],
   "source": [
    "x = X[full_df.isTrain]\n",
    "y = full_df[full_df.isTrain].target\n",
    "x_test = X[~full_df.isTrain]"
   ]
  },
  {
   "cell_type": "code",
   "execution_count": 8,
   "metadata": {
    "_uuid": "c9880619b2dfcb543e01d5e0c5fb616096a3df41"
   },
   "outputs": [
    {
     "name": "stdout",
     "output_type": "stream",
     "text": [
      "WARNING:tensorflow:From /opt/conda/lib/python3.6/site-packages/tensorflow/python/framework/op_def_library.py:263: colocate_with (from tensorflow.python.framework.ops) is deprecated and will be removed in a future version.\n",
      "Instructions for updating:\n",
      "Colocations handled automatically by placer.\n"
     ]
    }
   ],
   "source": [
    "input_data = Input(shape=(X.shape[1],)) \n",
    "encoded = Dense(128, activation='relu')(input_data) \n",
    "encoded = Dense(4, activation='relu')(encoded) \n",
    "encoded = Dense(128, activation='relu')(encoded) \n",
    "decoded = Dense(X.shape[1], activation='tanh')(encoded)\n",
    "autoencoder = Model(input_data, decoded)\n",
    "autoencoder.compile(optimizer='adam', loss='mean_squared_error')"
   ]
  },
  {
   "cell_type": "code",
   "execution_count": 9,
   "metadata": {
    "_uuid": "9ebed44d7441a0c1132e8f86c3ed56b3af975c0d"
   },
   "outputs": [
    {
     "name": "stdout",
     "output_type": "stream",
     "text": [
      "WARNING:tensorflow:From /opt/conda/lib/python3.6/site-packages/tensorflow/python/ops/math_ops.py:3066: to_int32 (from tensorflow.python.ops.math_ops) is deprecated and will be removed in a future version.\n",
      "Instructions for updating:\n",
      "Use tf.cast instead.\n",
      "Epoch 1/10\n",
      "400000/400000 [==============================] - 9s 22us/step - loss: 0.0257\n",
      "Epoch 2/10\n",
      "400000/400000 [==============================] - 8s 20us/step - loss: 0.0215\n",
      "Epoch 3/10\n",
      "400000/400000 [==============================] - 8s 20us/step - loss: 0.0215\n",
      "Epoch 4/10\n",
      "400000/400000 [==============================] - 8s 20us/step - loss: 0.0215\n",
      "Epoch 5/10\n",
      "400000/400000 [==============================] - 8s 21us/step - loss: 0.0214\n",
      "Epoch 6/10\n",
      "400000/400000 [==============================] - 8s 20us/step - loss: 0.0214\n",
      "Epoch 7/10\n",
      "400000/400000 [==============================] - 8s 20us/step - loss: 0.0214\n",
      "Epoch 8/10\n",
      "400000/400000 [==============================] - 8s 20us/step - loss: 0.0214\n",
      "Epoch 9/10\n",
      "400000/400000 [==============================] - 8s 20us/step - loss: 0.0214\n",
      "Epoch 10/10\n",
      "400000/400000 [==============================] - 8s 20us/step - loss: 0.0214\n"
     ]
    },
    {
     "data": {
      "text/plain": [
       "<keras.callbacks.History at 0x7fd634179828>"
      ]
     },
     "execution_count": 9,
     "metadata": {},
     "output_type": "execute_result"
    }
   ],
   "source": [
    "#Auto Encoder Training\n",
    "autoencoder.fit(X,X, epochs=10, batch_size=512, shuffle=True)"
   ]
  },
  {
   "cell_type": "code",
   "execution_count": 10,
   "metadata": {
    "_uuid": "65e0774801be5dca7c9a1062df7157a991980e7d"
   },
   "outputs": [],
   "source": [
    "x = np.insert(x,-1,np.mean(np.power(x - autoencoder.predict(x), 2), axis=1),axis=1)\n",
    "x_test = np.insert(x_test,-1,np.mean(np.power(x_test - autoencoder.predict(x_test), 2), axis=1),axis=1)"
   ]
  },
  {
   "cell_type": "code",
   "execution_count": 11,
   "metadata": {
    "_uuid": "7b81df4649f60519a0ebb7d3bea9a46a2d17d250"
   },
   "outputs": [],
   "source": [
    "folds = StratifiedKFold(n_splits=10, shuffle=False, random_state=42)\n",
    "oof = np.zeros(len(train_df))\n",
    "predictions = np.zeros(len(test_df))"
   ]
  },
  {
   "cell_type": "code",
   "execution_count": 12,
   "metadata": {
    "_cell_guid": "79c7e3d0-c299-4dcb-8224-4455121ee9b0",
    "_uuid": "d629ff2d2480ee46fbb7e2d37f6b5fab8052498a"
   },
   "outputs": [],
   "source": [
    "param = {\n",
    "    'bagging_freq': 5,\n",
    "    'bagging_fraction': 0.33,\n",
    "    'boost_from_average':'false',   \n",
    "    'boost': 'gbdt',\n",
    "    'feature_fraction': 0.04,\n",
    "    'learning_rate': 0.01,\n",
    "    'max_depth': -1,\n",
    "    'metric':'auc',\n",
    "    'min_data_in_leaf': 80,     \n",
    "    'min_sum_hessian_in_leaf': 10.0,\n",
    "    'num_leaves': 13,\n",
    "    'num_threads': 8,            \n",
    "    'tree_learner': 'serial',\n",
    "    'objective': 'binary',\n",
    "    'verbosity': 1\n",
    "}"
   ]
  },
  {
   "cell_type": "code",
   "execution_count": 13,
   "metadata": {
    "_uuid": "9730b0fa9d2952afc22e425224c6a090dbb43f75",
    "scrolled": true
   },
   "outputs": [
    {
     "name": "stdout",
     "output_type": "stream",
     "text": [
      "Fold 0\n",
      "Training until validation scores don't improve for 100 rounds.\n",
      "Early stopping, best iteration is:\n",
      "[105]\ttraining's auc: 0.869422\tvalid_1's auc: 0.857899\n",
      "Fold 1\n",
      "Training until validation scores don't improve for 100 rounds.\n",
      "Early stopping, best iteration is:\n",
      "[105]\ttraining's auc: 0.870195\tvalid_1's auc: 0.854316\n",
      "Fold 2\n",
      "Training until validation scores don't improve for 100 rounds.\n",
      "Early stopping, best iteration is:\n",
      "[122]\ttraining's auc: 0.869995\tvalid_1's auc: 0.850159\n",
      "Fold 3\n",
      "Training until validation scores don't improve for 100 rounds.\n",
      "Early stopping, best iteration is:\n",
      "[105]\ttraining's auc: 0.869211\tvalid_1's auc: 0.857526\n",
      "Fold 4\n",
      "Training until validation scores don't improve for 100 rounds.\n",
      "Early stopping, best iteration is:\n",
      "[118]\ttraining's auc: 0.868902\tvalid_1's auc: 0.861092\n",
      "Fold 5\n",
      "Training until validation scores don't improve for 100 rounds.\n",
      "Early stopping, best iteration is:\n",
      "[122]\ttraining's auc: 0.8686\tvalid_1's auc: 0.865343\n",
      "Fold 6\n",
      "Training until validation scores don't improve for 100 rounds.\n",
      "Early stopping, best iteration is:\n",
      "[105]\ttraining's auc: 0.869083\tvalid_1's auc: 0.853941\n",
      "Fold 7\n",
      "Training until validation scores don't improve for 100 rounds.\n",
      "Early stopping, best iteration is:\n",
      "[138]\ttraining's auc: 0.868524\tvalid_1's auc: 0.848374\n",
      "Fold 8\n",
      "Training until validation scores don't improve for 100 rounds.\n",
      "Early stopping, best iteration is:\n",
      "[105]\ttraining's auc: 0.868484\tvalid_1's auc: 0.860597\n",
      "Fold 9\n",
      "Training until validation scores don't improve for 100 rounds.\n",
      "Early stopping, best iteration is:\n",
      "[105]\ttraining's auc: 0.868816\tvalid_1's auc: 0.855173\n",
      "CV score: 0.71836 \n"
     ]
    }
   ],
   "source": [
    "for fold_, (trn_idx, val_idx) in enumerate(folds.split(x, y)):\n",
    "    print(\"Fold {}\".format(fold_))\n",
    "    trn_data = lgb.Dataset(x[trn_idx], label=y[trn_idx])\n",
    "    val_data = lgb.Dataset(x[val_idx], label=y[val_idx])\n",
    "    clf = lgb.train(param, trn_data, 1000000, valid_sets = [trn_data, val_data], verbose_eval=2500, early_stopping_rounds = 100)\n",
    "    oof[val_idx] = clf.predict(x[val_idx], num_iteration=clf.best_iteration)\n",
    "    predictions += clf.predict(x_test, num_iteration=clf.best_iteration) / folds.n_splits\n",
    "print(\"CV score: {:<8.5f}\".format(roc_auc_score(y, oof)))"
   ]
  },
  {
   "cell_type": "code",
   "execution_count": 14,
   "metadata": {
    "_uuid": "db8a946d9dd98ecb6e48a3815a4e7340f50660bc"
   },
   "outputs": [],
   "source": [
    "submission = test_df.loc[:,['ID_code','target']]\n",
    "submission['target'] = predictions\n",
    "submission.to_csv(\"submission_16.csv\", index=False)"
   ]
  }
 ],
 "metadata": {
  "kernelspec": {
   "display_name": "Python 3",
   "language": "python",
   "name": "python3"
  },
  "language_info": {
   "codemirror_mode": {
    "name": "ipython",
    "version": 3
   },
   "file_extension": ".py",
   "mimetype": "text/x-python",
   "name": "python",
   "nbconvert_exporter": "python",
   "pygments_lexer": "ipython3",
   "version": "3.6.6"
  }
 },
 "nbformat": 4,
 "nbformat_minor": 1
}
