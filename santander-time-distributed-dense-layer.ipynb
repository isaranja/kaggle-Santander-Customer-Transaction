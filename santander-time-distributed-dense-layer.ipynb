{
 "cells": [
  {
   "cell_type": "markdown",
   "metadata": {
    "_uuid": "30aef54e060dd58791be0702c065f4aade6cd2ec"
   },
   "source": [
    "## Overview\n",
    "\n",
    "This Kernel is based on the concept of following kernel\n",
    "\n",
    "[Reference Kernel](https://www.kaggle.com/jotel1/nn-input-shape-why-it-matters)\n"
   ]
  },
  {
   "cell_type": "markdown",
   "metadata": {
    "_uuid": "d6d0c0cee49bf7ae447f9076ccc709dfd86ff05a"
   },
   "source": [
    "## Loading required libraries"
   ]
  },
  {
   "cell_type": "code",
   "execution_count": 1,
   "metadata": {
    "_cell_guid": "b1076dfc-b9ad-4769-8c92-a6c4dae69d19",
    "_uuid": "8f2839f25d086af736a60e9eeb907d3b93b6e0e5"
   },
   "outputs": [
    {
     "name": "stderr",
     "output_type": "stream",
     "text": [
      "Using TensorFlow backend.\n"
     ]
    }
   ],
   "source": [
    "import numpy as np # linear algebra\n",
    "import pandas as pd # data processing, CSV file I/O (e.g. pd.read_csv)\n",
    "\n",
    "# plotting\n",
    "import matplotlib\n",
    "import matplotlib.pyplot as plt\n",
    "\n",
    "# preprocessing\n",
    "from sklearn.preprocessing import StandardScaler # normalization\n",
    "\n",
    "# keras packages\n",
    "from keras.models import Sequential, Model\n",
    "from keras.layers import Input, Dense, Dropout, BatchNormalization, Flatten\n",
    "\n",
    "from keras import optimizers\n",
    "\n",
    "# model selection and metrics\n",
    "from sklearn.model_selection import train_test_split\n",
    "from sklearn import metrics\n",
    "\n",
    "# evaluation\n",
    "from sklearn.metrics import confusion_matrix, accuracy_score , roc_auc_score\n",
    "\n",
    "#\n",
    "import tensorflow as tf"
   ]
  },
  {
   "cell_type": "markdown",
   "metadata": {
    "_uuid": "606da085e96e9983e5897f4e23a5602781faf014"
   },
   "source": [
    "## keras GPU setting"
   ]
  },
  {
   "cell_type": "code",
   "execution_count": 2,
   "metadata": {
    "_uuid": "21d4049ff7ee5ba14389b3673359d9d21563d08d"
   },
   "outputs": [
    {
     "data": {
      "text/plain": [
       "['/job:localhost/replica:0/task:0/device:GPU:0']"
      ]
     },
     "execution_count": 2,
     "metadata": {},
     "output_type": "execute_result"
    }
   ],
   "source": [
    "from keras import backend as K\n",
    "K.tensorflow_backend._get_available_gpus()"
   ]
  },
  {
   "cell_type": "markdown",
   "metadata": {
    "_uuid": "8b1ff8cca41d00c4b9e077813f4c5feca1a2ef1e"
   },
   "source": [
    "## Loading data files"
   ]
  },
  {
   "cell_type": "code",
   "execution_count": 3,
   "metadata": {
    "_cell_guid": "79c7e3d0-c299-4dcb-8224-4455121ee9b0",
    "_uuid": "d629ff2d2480ee46fbb7e2d37f6b5fab8052498a"
   },
   "outputs": [],
   "source": [
    "test_df = pd.read_csv(\"../input/test.csv\")\n",
    "train_df = pd.read_csv(\"../input/train.csv\")\n",
    "submission = pd.read_csv(\"../input/sample_submission.csv\")"
   ]
  },
  {
   "cell_type": "markdown",
   "metadata": {
    "_uuid": "4d41796051de89aead84594e52d4a059e11ddef2"
   },
   "source": [
    "## Merging train and test data frames"
   ]
  },
  {
   "cell_type": "code",
   "execution_count": 4,
   "metadata": {
    "_uuid": "4ea8e46f6499430eef80cb2e0d3b5cf666da9f26"
   },
   "outputs": [],
   "source": [
    "train_df = train_df.assign(isTrain = True)\n",
    "test_df = test_df.assign(isTrain=False)\n",
    "\n",
    "full_df = pd.concat([train_df,test_df],sort=False)"
   ]
  },
  {
   "cell_type": "markdown",
   "metadata": {
    "_uuid": "8e5dfa89761a3dcdb46719fceebf726345eb57b0"
   },
   "source": [
    "## Feature scaling"
   ]
  },
  {
   "cell_type": "code",
   "execution_count": 5,
   "metadata": {
    "_uuid": "7859d93668bbd9128cc437a7143c97a91c7de3ae"
   },
   "outputs": [],
   "source": [
    "scaler = StandardScaler()\n",
    "X=scaler.fit_transform(full_df.loc[:,'var_0':'var_199'].values)"
   ]
  },
  {
   "cell_type": "markdown",
   "metadata": {
    "_uuid": "da9abe7d12fb38aab9687c9aeb1ad20a399ccf96"
   },
   "source": [
    "## Train, Valid data preperation"
   ]
  },
  {
   "cell_type": "code",
   "execution_count": 6,
   "metadata": {
    "_uuid": "6b1a4d7c5fc17d404a73ec7c158481bce9183072"
   },
   "outputs": [],
   "source": [
    "x = X[full_df.isTrain]\n",
    "y = full_df[full_df.isTrain].target\n",
    "x_test = X[~full_df.isTrain]\n",
    "\n",
    "x_train, x_val, y_train, y_val = train_test_split(x, y , test_size=0.33, stratify=y, random_state=42)"
   ]
  },
  {
   "cell_type": "markdown",
   "metadata": {
    "_uuid": "5f86438aa1123e1bc860ab9550f22ba5b8c9e68c"
   },
   "source": [
    "## Reshaping data for Time Distributed Dense Layer"
   ]
  },
  {
   "cell_type": "code",
   "execution_count": 7,
   "metadata": {
    "_uuid": "b21faad801f4088ecddbb6461f1e540794dd4e2b"
   },
   "outputs": [],
   "source": [
    "x_train = x_train.reshape(-1,200,1)\n",
    "x_val = x_val.reshape(-1,200,1)\n",
    "x_test = x_test.reshape(-1,200,1)"
   ]
  },
  {
   "cell_type": "markdown",
   "metadata": {
    "_uuid": "7cfcd98bc58196c79b30427fe514547a530c27b1"
   },
   "source": [
    "## Loss Function"
   ]
  },
  {
   "cell_type": "code",
   "execution_count": 8,
   "metadata": {
    "_uuid": "91c0051037614911c692334053ea7556033b323b"
   },
   "outputs": [],
   "source": [
    "# focal loss \n",
    "def focal_loss(alpha=0.25,gamma=5.0):\n",
    "    def focal_crossentropy(y_true, y_pred):\n",
    "        bce = K.binary_crossentropy(y_true, y_pred)\n",
    "        \n",
    "        y_pred = K.clip(y_pred, K.epsilon(), 1.- K.epsilon())\n",
    "        p_t = (y_true*y_pred) + ((1-y_true)*(1-y_pred))\n",
    "        alpha_t =  y_true*alpha + ((1-alpha)*(1-y_true))\n",
    "\n",
    "        # compute the final loss and return\n",
    "        return K.mean(alpha_t*K.pow((1-p_t), gamma)*bce, axis=-1)\n",
    "    return focal_crossentropy"
   ]
  },
  {
   "cell_type": "markdown",
   "metadata": {
    "_uuid": "420cead859392f3d3ae0d068b44596eca1690d71"
   },
   "source": [
    "## Metric"
   ]
  },
  {
   "cell_type": "code",
   "execution_count": 9,
   "metadata": {
    "_uuid": "87e07e30f1f5b182dd1acf9d5866c4621da7c1df"
   },
   "outputs": [],
   "source": [
    "def auc(y_true, y_pred):\n",
    "    auc = tf.metrics.auc(y_true, y_pred,num_thresholds=50000)[1]\n",
    "    K.get_session().run(tf.local_variables_initializer())\n",
    "    return auc"
   ]
  },
  {
   "cell_type": "markdown",
   "metadata": {
    "_uuid": "7943a9b022b2f506d8cbb925a2a4f0b14fc675e3"
   },
   "source": [
    "## Model Building"
   ]
  },
  {
   "cell_type": "code",
   "execution_count": 10,
   "metadata": {
    "_uuid": "bb49d60698f3273dbee2e4af1373e386f1ecacf5"
   },
   "outputs": [
    {
     "name": "stdout",
     "output_type": "stream",
     "text": [
      "_________________________________________________________________\n",
      "Layer (type)                 Output Shape              Param #   \n",
      "=================================================================\n",
      "dense_1 (Dense)              (None, 200, 4)            8         \n",
      "_________________________________________________________________\n",
      "batch_normalization_1 (Batch (None, 200, 4)            16        \n",
      "_________________________________________________________________\n",
      "dense_2 (Dense)              (None, 200, 16)           80        \n",
      "_________________________________________________________________\n",
      "batch_normalization_2 (Batch (None, 200, 16)           64        \n",
      "_________________________________________________________________\n",
      "flatten_1 (Flatten)          (None, 3200)              0         \n",
      "_________________________________________________________________\n",
      "dense_3 (Dense)              (None, 1)                 3201      \n",
      "=================================================================\n",
      "Total params: 3,369\n",
      "Trainable params: 3,329\n",
      "Non-trainable params: 40\n",
      "_________________________________________________________________\n"
     ]
    }
   ],
   "source": [
    "model_nn = Sequential()\n",
    "model_nn.add(Dense(4, input_shape = (200,1),activation='relu'))\n",
    "model_nn.add(BatchNormalization())\n",
    "model_nn.add(Dense(16,activation='relu'))\n",
    "model_nn.add(BatchNormalization())\n",
    "model_nn.add(Flatten())\n",
    "model_nn.add(Dense(1, activation='sigmoid'))\n",
    "\n",
    "model_nn.compile(loss=[focal_loss(alpha=.25, gamma=2.0)], \n",
    "              optimizer='adam',\n",
    "              metrics=['accuracy',auc])\n",
    "\n",
    "model_nn.summary()"
   ]
  },
  {
   "cell_type": "markdown",
   "metadata": {
    "_uuid": "b525146811d968ebe79d029c2f6b699598a8886c"
   },
   "source": [
    "## Training"
   ]
  },
  {
   "cell_type": "code",
   "execution_count": 11,
   "metadata": {
    "_uuid": "6b31f371ef88ef9fb5e867592b326353c7bb0325"
   },
   "outputs": [],
   "source": [
    "from keras.callbacks import EarlyStopping, ModelCheckpoint\n",
    "# Set callback functions to early stop training and save the best model so far\n",
    "callbacks = [EarlyStopping(monitor='val_loss', patience=100)]"
   ]
  },
  {
   "cell_type": "code",
   "execution_count": 12,
   "metadata": {
    "_kg_hide-output": true,
    "_uuid": "03f7b4a634bb62950d702892555d5fe0bd49884c"
   },
   "outputs": [
    {
     "name": "stdout",
     "output_type": "stream",
     "text": [
      "Train on 134000 samples, validate on 66000 samples\n",
      "Epoch 1/200\n",
      " - 5s - loss: 0.0788 - acc: 0.7998 - auc: 0.6131 - val_loss: 0.0388 - val_acc: 0.8990 - val_auc: 0.7220\n",
      "Epoch 2/200\n",
      " - 4s - loss: 0.0214 - acc: 0.9169 - auc: 0.7696 - val_loss: 0.0243 - val_acc: 0.9194 - val_auc: 0.7966\n",
      "Epoch 3/200\n",
      " - 4s - loss: 0.0208 - acc: 0.9169 - auc: 0.8132 - val_loss: 0.0216 - val_acc: 0.9181 - val_auc: 0.8250\n",
      "Epoch 4/200\n",
      " - 4s - loss: 0.0207 - acc: 0.9173 - auc: 0.8334 - val_loss: 0.0214 - val_acc: 0.9132 - val_auc: 0.8392\n",
      "Epoch 5/200\n",
      " - 4s - loss: 0.0207 - acc: 0.9176 - auc: 0.8439 - val_loss: 0.0243 - val_acc: 0.9071 - val_auc: 0.8460\n",
      "Epoch 6/200\n",
      " - 4s - loss: 0.0207 - acc: 0.9171 - auc: 0.8480 - val_loss: 0.0211 - val_acc: 0.9168 - val_auc: 0.8514\n",
      "Epoch 7/200\n",
      " - 4s - loss: 0.0207 - acc: 0.9173 - auc: 0.8543 - val_loss: 0.0212 - val_acc: 0.9138 - val_auc: 0.8566\n",
      "Epoch 8/200\n",
      " - 4s - loss: 0.0207 - acc: 0.9173 - auc: 0.8587 - val_loss: 0.0212 - val_acc: 0.9168 - val_auc: 0.8606\n",
      "Epoch 9/200\n",
      " - 4s - loss: 0.0207 - acc: 0.9177 - auc: 0.8623 - val_loss: 0.0212 - val_acc: 0.9148 - val_auc: 0.8638\n",
      "Epoch 10/200\n",
      " - 4s - loss: 0.0207 - acc: 0.9174 - auc: 0.8650 - val_loss: 0.0217 - val_acc: 0.9121 - val_auc: 0.8661\n",
      "Epoch 11/200\n",
      " - 4s - loss: 0.0207 - acc: 0.9173 - auc: 0.8671 - val_loss: 0.0212 - val_acc: 0.9157 - val_auc: 0.8681\n",
      "Epoch 12/200\n",
      " - 4s - loss: 0.0207 - acc: 0.9173 - auc: 0.8690 - val_loss: 0.0211 - val_acc: 0.9169 - val_auc: 0.8699\n",
      "Epoch 13/200\n",
      " - 4s - loss: 0.0206 - acc: 0.9185 - auc: 0.8707 - val_loss: 0.0215 - val_acc: 0.9133 - val_auc: 0.8714\n",
      "Epoch 14/200\n",
      " - 4s - loss: 0.0206 - acc: 0.9173 - auc: 0.8720 - val_loss: 0.0216 - val_acc: 0.9137 - val_auc: 0.8725\n",
      "Epoch 15/200\n",
      " - 4s - loss: 0.0206 - acc: 0.9180 - auc: 0.8731 - val_loss: 0.0212 - val_acc: 0.9147 - val_auc: 0.8736\n",
      "Epoch 16/200\n",
      " - 4s - loss: 0.0206 - acc: 0.9177 - auc: 0.8742 - val_loss: 0.0213 - val_acc: 0.9144 - val_auc: 0.8747\n",
      "Epoch 17/200\n",
      " - 4s - loss: 0.0206 - acc: 0.9182 - auc: 0.8751 - val_loss: 0.0213 - val_acc: 0.9145 - val_auc: 0.8755\n",
      "Epoch 18/200\n",
      " - 4s - loss: 0.0205 - acc: 0.9176 - auc: 0.8760 - val_loss: 0.0214 - val_acc: 0.9141 - val_auc: 0.8764\n",
      "Epoch 19/200\n",
      " - 4s - loss: 0.0205 - acc: 0.9178 - auc: 0.8768 - val_loss: 0.0211 - val_acc: 0.9161 - val_auc: 0.8772\n",
      "Epoch 20/200\n",
      " - 4s - loss: 0.0205 - acc: 0.9180 - auc: 0.8775 - val_loss: 0.0211 - val_acc: 0.9161 - val_auc: 0.8779\n",
      "Epoch 21/200\n",
      " - 4s - loss: 0.0205 - acc: 0.9178 - auc: 0.8782 - val_loss: 0.0211 - val_acc: 0.9167 - val_auc: 0.8786\n",
      "Epoch 22/200\n",
      " - 4s - loss: 0.0205 - acc: 0.9179 - auc: 0.8789 - val_loss: 0.0210 - val_acc: 0.9156 - val_auc: 0.8792\n",
      "Epoch 23/200\n",
      " - 4s - loss: 0.0205 - acc: 0.9181 - auc: 0.8795 - val_loss: 0.0215 - val_acc: 0.9144 - val_auc: 0.8797\n",
      "Epoch 24/200\n",
      " - 4s - loss: 0.0204 - acc: 0.9185 - auc: 0.8799 - val_loss: 0.0213 - val_acc: 0.9143 - val_auc: 0.8801\n",
      "Epoch 25/200\n",
      " - 4s - loss: 0.0205 - acc: 0.9181 - auc: 0.8804 - val_loss: 0.0214 - val_acc: 0.9145 - val_auc: 0.8806\n",
      "Epoch 26/200\n",
      " - 4s - loss: 0.0204 - acc: 0.9186 - auc: 0.8808 - val_loss: 0.0211 - val_acc: 0.9181 - val_auc: 0.8810\n",
      "Epoch 27/200\n",
      " - 4s - loss: 0.0204 - acc: 0.9184 - auc: 0.8813 - val_loss: 0.0211 - val_acc: 0.9176 - val_auc: 0.8815\n",
      "Epoch 28/200\n",
      " - 4s - loss: 0.0204 - acc: 0.9185 - auc: 0.8817 - val_loss: 0.0213 - val_acc: 0.9150 - val_auc: 0.8819\n",
      "Epoch 29/200\n",
      " - 4s - loss: 0.0204 - acc: 0.9184 - auc: 0.8821 - val_loss: 0.0211 - val_acc: 0.9184 - val_auc: 0.8823\n",
      "Epoch 30/200\n",
      " - 4s - loss: 0.0203 - acc: 0.9186 - auc: 0.8825 - val_loss: 0.0214 - val_acc: 0.9192 - val_auc: 0.8826\n",
      "Epoch 31/200\n",
      " - 4s - loss: 0.0203 - acc: 0.9188 - auc: 0.8828 - val_loss: 0.0211 - val_acc: 0.9155 - val_auc: 0.8830\n",
      "Epoch 32/200\n",
      " - 4s - loss: 0.0203 - acc: 0.9186 - auc: 0.8832 - val_loss: 0.0212 - val_acc: 0.9194 - val_auc: 0.8833\n",
      "Epoch 33/200\n",
      " - 4s - loss: 0.0203 - acc: 0.9186 - auc: 0.8835 - val_loss: 0.0210 - val_acc: 0.9153 - val_auc: 0.8836\n",
      "Epoch 34/200\n",
      " - 4s - loss: 0.0202 - acc: 0.9190 - auc: 0.8838 - val_loss: 0.0209 - val_acc: 0.9180 - val_auc: 0.8840\n",
      "Epoch 35/200\n",
      " - 4s - loss: 0.0202 - acc: 0.9185 - auc: 0.8841 - val_loss: 0.0211 - val_acc: 0.9180 - val_auc: 0.8843\n",
      "Epoch 36/200\n",
      " - 4s - loss: 0.0202 - acc: 0.9192 - auc: 0.8844 - val_loss: 0.0212 - val_acc: 0.9188 - val_auc: 0.8845\n",
      "Epoch 37/200\n",
      " - 4s - loss: 0.0202 - acc: 0.9190 - auc: 0.8847 - val_loss: 0.0211 - val_acc: 0.9158 - val_auc: 0.8848\n",
      "Epoch 38/200\n",
      " - 4s - loss: 0.0202 - acc: 0.9187 - auc: 0.8849 - val_loss: 0.0210 - val_acc: 0.9186 - val_auc: 0.8851\n",
      "Epoch 39/200\n",
      " - 4s - loss: 0.0202 - acc: 0.9194 - auc: 0.8852 - val_loss: 0.0209 - val_acc: 0.9176 - val_auc: 0.8853\n",
      "Epoch 40/200\n",
      " - 4s - loss: 0.0201 - acc: 0.9188 - auc: 0.8855 - val_loss: 0.0209 - val_acc: 0.9180 - val_auc: 0.8856\n",
      "Epoch 41/200\n",
      " - 4s - loss: 0.0201 - acc: 0.9190 - auc: 0.8857 - val_loss: 0.0210 - val_acc: 0.9153 - val_auc: 0.8859\n",
      "Epoch 42/200\n",
      " - 4s - loss: 0.0201 - acc: 0.9189 - auc: 0.8860 - val_loss: 0.0209 - val_acc: 0.9176 - val_auc: 0.8861\n",
      "Epoch 43/200\n",
      " - 4s - loss: 0.0201 - acc: 0.9190 - auc: 0.8862 - val_loss: 0.0209 - val_acc: 0.9174 - val_auc: 0.8863\n",
      "Epoch 44/200\n",
      " - 4s - loss: 0.0201 - acc: 0.9194 - auc: 0.8864 - val_loss: 0.0209 - val_acc: 0.9156 - val_auc: 0.8865\n",
      "Epoch 45/200\n",
      " - 4s - loss: 0.0201 - acc: 0.9188 - auc: 0.8866 - val_loss: 0.0215 - val_acc: 0.9197 - val_auc: 0.8867\n",
      "Epoch 46/200\n",
      " - 4s - loss: 0.0200 - acc: 0.9192 - auc: 0.8868 - val_loss: 0.0208 - val_acc: 0.9164 - val_auc: 0.8869\n",
      "Epoch 47/200\n",
      " - 4s - loss: 0.0201 - acc: 0.9189 - auc: 0.8870 - val_loss: 0.0208 - val_acc: 0.9176 - val_auc: 0.8871\n",
      "Epoch 48/200\n",
      " - 4s - loss: 0.0201 - acc: 0.9190 - auc: 0.8872 - val_loss: 0.0209 - val_acc: 0.9178 - val_auc: 0.8873\n",
      "Epoch 49/200\n",
      " - 4s - loss: 0.0200 - acc: 0.9191 - auc: 0.8874 - val_loss: 0.0209 - val_acc: 0.9180 - val_auc: 0.8875\n",
      "Epoch 50/200\n",
      " - 4s - loss: 0.0200 - acc: 0.9193 - auc: 0.8876 - val_loss: 0.0207 - val_acc: 0.9154 - val_auc: 0.8877\n",
      "Epoch 51/200\n",
      " - 4s - loss: 0.0200 - acc: 0.9188 - auc: 0.8878 - val_loss: 0.0208 - val_acc: 0.9170 - val_auc: 0.8879\n",
      "Epoch 52/200\n",
      " - 4s - loss: 0.0200 - acc: 0.9190 - auc: 0.8880 - val_loss: 0.0211 - val_acc: 0.9203 - val_auc: 0.8881\n",
      "Epoch 53/200\n",
      " - 4s - loss: 0.0199 - acc: 0.9191 - auc: 0.8882 - val_loss: 0.0209 - val_acc: 0.9188 - val_auc: 0.8882\n",
      "Epoch 54/200\n",
      " - 4s - loss: 0.0199 - acc: 0.9189 - auc: 0.8883 - val_loss: 0.0207 - val_acc: 0.9177 - val_auc: 0.8884\n",
      "Epoch 55/200\n",
      " - 4s - loss: 0.0199 - acc: 0.9194 - auc: 0.8885 - val_loss: 0.0209 - val_acc: 0.9187 - val_auc: 0.8886\n",
      "Epoch 56/200\n",
      " - 4s - loss: 0.0199 - acc: 0.9193 - auc: 0.8887 - val_loss: 0.0207 - val_acc: 0.9174 - val_auc: 0.8888\n",
      "Epoch 57/200\n",
      " - 4s - loss: 0.0199 - acc: 0.9193 - auc: 0.8888 - val_loss: 0.0209 - val_acc: 0.9169 - val_auc: 0.8889\n",
      "Epoch 58/200\n",
      " - 4s - loss: 0.0199 - acc: 0.9192 - auc: 0.8890 - val_loss: 0.0207 - val_acc: 0.9171 - val_auc: 0.8891\n",
      "Epoch 59/200\n",
      " - 4s - loss: 0.0199 - acc: 0.9194 - auc: 0.8892 - val_loss: 0.0207 - val_acc: 0.9179 - val_auc: 0.8892\n",
      "Epoch 60/200\n",
      " - 4s - loss: 0.0199 - acc: 0.9191 - auc: 0.8893 - val_loss: 0.0208 - val_acc: 0.9190 - val_auc: 0.8894\n",
      "Epoch 61/200\n",
      " - 4s - loss: 0.0199 - acc: 0.9195 - auc: 0.8895 - val_loss: 0.0208 - val_acc: 0.9158 - val_auc: 0.8895\n",
      "Epoch 62/200\n",
      " - 4s - loss: 0.0198 - acc: 0.9195 - auc: 0.8896 - val_loss: 0.0207 - val_acc: 0.9153 - val_auc: 0.8897\n",
      "Epoch 63/200\n",
      " - 4s - loss: 0.0198 - acc: 0.9189 - auc: 0.8897 - val_loss: 0.0207 - val_acc: 0.9154 - val_auc: 0.8898\n",
      "Epoch 64/200\n",
      " - 4s - loss: 0.0199 - acc: 0.9194 - auc: 0.8899 - val_loss: 0.0207 - val_acc: 0.9185 - val_auc: 0.8900\n",
      "Epoch 65/200\n",
      " - 4s - loss: 0.0198 - acc: 0.9193 - auc: 0.8900 - val_loss: 0.0207 - val_acc: 0.9167 - val_auc: 0.8901\n",
      "Epoch 66/200\n",
      " - 4s - loss: 0.0198 - acc: 0.9195 - auc: 0.8902 - val_loss: 0.0206 - val_acc: 0.9170 - val_auc: 0.8902\n",
      "Epoch 67/200\n",
      " - 4s - loss: 0.0198 - acc: 0.9194 - auc: 0.8903 - val_loss: 0.0206 - val_acc: 0.9181 - val_auc: 0.8904\n",
      "Epoch 68/200\n",
      " - 4s - loss: 0.0198 - acc: 0.9193 - auc: 0.8904 - val_loss: 0.0207 - val_acc: 0.9189 - val_auc: 0.8905\n",
      "Epoch 69/200\n",
      " - 4s - loss: 0.0198 - acc: 0.9194 - auc: 0.8906 - val_loss: 0.0209 - val_acc: 0.9190 - val_auc: 0.8906\n",
      "Epoch 70/200\n",
      " - 4s - loss: 0.0198 - acc: 0.9195 - auc: 0.8907 - val_loss: 0.0207 - val_acc: 0.9164 - val_auc: 0.8907\n",
      "Epoch 71/200\n",
      " - 4s - loss: 0.0198 - acc: 0.9196 - auc: 0.8908 - val_loss: 0.0206 - val_acc: 0.9168 - val_auc: 0.8908\n",
      "Epoch 72/200\n",
      " - 4s - loss: 0.0198 - acc: 0.9194 - auc: 0.8909 - val_loss: 0.0206 - val_acc: 0.9173 - val_auc: 0.8910\n",
      "Epoch 73/200\n",
      " - 4s - loss: 0.0197 - acc: 0.9196 - auc: 0.8910 - val_loss: 0.0207 - val_acc: 0.9174 - val_auc: 0.8911\n",
      "Epoch 74/200\n",
      " - 4s - loss: 0.0198 - acc: 0.9191 - auc: 0.8912 - val_loss: 0.0207 - val_acc: 0.9181 - val_auc: 0.8912\n",
      "Epoch 75/200\n",
      " - 4s - loss: 0.0197 - acc: 0.9197 - auc: 0.8913 - val_loss: 0.0207 - val_acc: 0.9164 - val_auc: 0.8913\n",
      "Epoch 76/200\n",
      " - 4s - loss: 0.0197 - acc: 0.9197 - auc: 0.8914 - val_loss: 0.0206 - val_acc: 0.9174 - val_auc: 0.8914\n",
      "Epoch 77/200\n",
      " - 4s - loss: 0.0197 - acc: 0.9198 - auc: 0.8915 - val_loss: 0.0208 - val_acc: 0.9194 - val_auc: 0.8915\n",
      "Epoch 78/200\n",
      " - 4s - loss: 0.0197 - acc: 0.9198 - auc: 0.8916 - val_loss: 0.0206 - val_acc: 0.9174 - val_auc: 0.8917\n",
      "Epoch 79/200\n",
      " - 4s - loss: 0.0197 - acc: 0.9197 - auc: 0.8917 - val_loss: 0.0206 - val_acc: 0.9156 - val_auc: 0.8918\n",
      "Epoch 80/200\n",
      " - 4s - loss: 0.0197 - acc: 0.9193 - auc: 0.8918 - val_loss: 0.0206 - val_acc: 0.9178 - val_auc: 0.8919\n",
      "Epoch 81/200\n",
      " - 4s - loss: 0.0197 - acc: 0.9197 - auc: 0.8919 - val_loss: 0.0208 - val_acc: 0.9188 - val_auc: 0.8920\n",
      "Epoch 82/200\n",
      " - 4s - loss: 0.0197 - acc: 0.9198 - auc: 0.8920 - val_loss: 0.0205 - val_acc: 0.9177 - val_auc: 0.8921\n",
      "Epoch 83/200\n",
      " - 4s - loss: 0.0197 - acc: 0.9193 - auc: 0.8921 - val_loss: 0.0206 - val_acc: 0.9160 - val_auc: 0.8922\n",
      "Epoch 84/200\n",
      " - 4s - loss: 0.0197 - acc: 0.9193 - auc: 0.8922 - val_loss: 0.0207 - val_acc: 0.9175 - val_auc: 0.8923\n",
      "Epoch 85/200\n",
      " - 4s - loss: 0.0197 - acc: 0.9197 - auc: 0.8923 - val_loss: 0.0209 - val_acc: 0.9197 - val_auc: 0.8924\n",
      "Epoch 86/200\n",
      " - 4s - loss: 0.0197 - acc: 0.9195 - auc: 0.8924 - val_loss: 0.0206 - val_acc: 0.9181 - val_auc: 0.8925\n",
      "Epoch 87/200\n",
      " - 4s - loss: 0.0196 - acc: 0.9197 - auc: 0.8925 - val_loss: 0.0207 - val_acc: 0.9187 - val_auc: 0.8925\n",
      "Epoch 88/200\n",
      " - 4s - loss: 0.0197 - acc: 0.9191 - auc: 0.8926 - val_loss: 0.0205 - val_acc: 0.9180 - val_auc: 0.8926\n",
      "Epoch 89/200\n",
      " - 4s - loss: 0.0196 - acc: 0.9199 - auc: 0.8927 - val_loss: 0.0206 - val_acc: 0.9179 - val_auc: 0.8927\n",
      "Epoch 90/200\n",
      " - 4s - loss: 0.0196 - acc: 0.9200 - auc: 0.8928 - val_loss: 0.0206 - val_acc: 0.9179 - val_auc: 0.8928\n",
      "Epoch 91/200\n",
      " - 4s - loss: 0.0196 - acc: 0.9197 - auc: 0.8929 - val_loss: 0.0206 - val_acc: 0.9180 - val_auc: 0.8929\n",
      "Epoch 92/200\n",
      " - 4s - loss: 0.0196 - acc: 0.9197 - auc: 0.8930 - val_loss: 0.0206 - val_acc: 0.9185 - val_auc: 0.8930\n",
      "Epoch 93/200\n",
      " - 4s - loss: 0.0197 - acc: 0.9197 - auc: 0.8931 - val_loss: 0.0207 - val_acc: 0.9183 - val_auc: 0.8931\n",
      "Epoch 94/200\n",
      " - 4s - loss: 0.0196 - acc: 0.9195 - auc: 0.8931 - val_loss: 0.0207 - val_acc: 0.9190 - val_auc: 0.8932\n",
      "Epoch 95/200\n",
      " - 4s - loss: 0.0196 - acc: 0.9200 - auc: 0.8932 - val_loss: 0.0208 - val_acc: 0.9195 - val_auc: 0.8933\n",
      "Epoch 96/200\n",
      " - 4s - loss: 0.0196 - acc: 0.9199 - auc: 0.8933 - val_loss: 0.0205 - val_acc: 0.9175 - val_auc: 0.8933\n",
      "Epoch 97/200\n",
      " - 4s - loss: 0.0196 - acc: 0.9199 - auc: 0.8934 - val_loss: 0.0205 - val_acc: 0.9175 - val_auc: 0.8934\n",
      "Epoch 98/200\n",
      " - 4s - loss: 0.0196 - acc: 0.9197 - auc: 0.8935 - val_loss: 0.0207 - val_acc: 0.9175 - val_auc: 0.8935\n",
      "Epoch 99/200\n",
      " - 4s - loss: 0.0196 - acc: 0.9201 - auc: 0.8935 - val_loss: 0.0207 - val_acc: 0.9182 - val_auc: 0.8936\n",
      "Epoch 100/200\n",
      " - 4s - loss: 0.0196 - acc: 0.9198 - auc: 0.8936 - val_loss: 0.0206 - val_acc: 0.9186 - val_auc: 0.8937\n",
      "Epoch 101/200\n",
      " - 4s - loss: 0.0196 - acc: 0.9199 - auc: 0.8937 - val_loss: 0.0208 - val_acc: 0.9192 - val_auc: 0.8937\n",
      "Epoch 102/200\n",
      " - 4s - loss: 0.0196 - acc: 0.9195 - auc: 0.8938 - val_loss: 0.0206 - val_acc: 0.9187 - val_auc: 0.8938\n",
      "Epoch 103/200\n",
      " - 4s - loss: 0.0195 - acc: 0.9203 - auc: 0.8938 - val_loss: 0.0205 - val_acc: 0.9157 - val_auc: 0.8939\n",
      "Epoch 104/200\n",
      " - 4s - loss: 0.0196 - acc: 0.9202 - auc: 0.8939 - val_loss: 0.0205 - val_acc: 0.9172 - val_auc: 0.8940\n",
      "Epoch 105/200\n",
      " - 4s - loss: 0.0196 - acc: 0.9199 - auc: 0.8940 - val_loss: 0.0205 - val_acc: 0.9171 - val_auc: 0.8940\n",
      "Epoch 106/200\n",
      " - 4s - loss: 0.0195 - acc: 0.9198 - auc: 0.8941 - val_loss: 0.0206 - val_acc: 0.9184 - val_auc: 0.8941\n",
      "Epoch 107/200\n",
      " - 4s - loss: 0.0195 - acc: 0.9200 - auc: 0.8941 - val_loss: 0.0208 - val_acc: 0.9195 - val_auc: 0.8942\n",
      "Epoch 108/200\n",
      " - 4s - loss: 0.0196 - acc: 0.9198 - auc: 0.8942 - val_loss: 0.0206 - val_acc: 0.9183 - val_auc: 0.8942\n",
      "Epoch 109/200\n",
      " - 4s - loss: 0.0195 - acc: 0.9199 - auc: 0.8943 - val_loss: 0.0207 - val_acc: 0.9192 - val_auc: 0.8943\n",
      "Epoch 110/200\n",
      " - 4s - loss: 0.0195 - acc: 0.9199 - auc: 0.8943 - val_loss: 0.0206 - val_acc: 0.9189 - val_auc: 0.8944\n",
      "Epoch 111/200\n",
      " - 4s - loss: 0.0196 - acc: 0.9198 - auc: 0.8944 - val_loss: 0.0207 - val_acc: 0.9193 - val_auc: 0.8944\n",
      "Epoch 112/200\n",
      " - 4s - loss: 0.0195 - acc: 0.9198 - auc: 0.8945 - val_loss: 0.0206 - val_acc: 0.9185 - val_auc: 0.8945\n",
      "Epoch 113/200\n",
      " - 4s - loss: 0.0195 - acc: 0.9202 - auc: 0.8945 - val_loss: 0.0206 - val_acc: 0.9185 - val_auc: 0.8946\n",
      "Epoch 114/200\n",
      " - 4s - loss: 0.0195 - acc: 0.9203 - auc: 0.8946 - val_loss: 0.0206 - val_acc: 0.9170 - val_auc: 0.8946\n",
      "Epoch 115/200\n",
      " - 4s - loss: 0.0196 - acc: 0.9198 - auc: 0.8947 - val_loss: 0.0206 - val_acc: 0.9183 - val_auc: 0.8947\n",
      "Epoch 116/200\n",
      " - 4s - loss: 0.0195 - acc: 0.9202 - auc: 0.8947 - val_loss: 0.0208 - val_acc: 0.9179 - val_auc: 0.8948\n",
      "Epoch 117/200\n",
      " - 4s - loss: 0.0195 - acc: 0.9202 - auc: 0.8948 - val_loss: 0.0205 - val_acc: 0.9165 - val_auc: 0.8948\n",
      "Epoch 118/200\n",
      " - 4s - loss: 0.0195 - acc: 0.9198 - auc: 0.8949 - val_loss: 0.0210 - val_acc: 0.9198 - val_auc: 0.8949\n",
      "Epoch 119/200\n",
      " - 4s - loss: 0.0195 - acc: 0.9202 - auc: 0.8949 - val_loss: 0.0206 - val_acc: 0.9184 - val_auc: 0.8949\n",
      "Epoch 120/200\n",
      " - 4s - loss: 0.0195 - acc: 0.9202 - auc: 0.8950 - val_loss: 0.0207 - val_acc: 0.9187 - val_auc: 0.8950\n",
      "Epoch 121/200\n",
      " - 4s - loss: 0.0195 - acc: 0.9201 - auc: 0.8950 - val_loss: 0.0209 - val_acc: 0.9199 - val_auc: 0.8951\n",
      "Epoch 122/200\n",
      " - 4s - loss: 0.0195 - acc: 0.9204 - auc: 0.8951 - val_loss: 0.0207 - val_acc: 0.9187 - val_auc: 0.8951\n",
      "Epoch 123/200\n",
      " - 4s - loss: 0.0195 - acc: 0.9201 - auc: 0.8951 - val_loss: 0.0206 - val_acc: 0.9185 - val_auc: 0.8952\n",
      "Epoch 124/200\n",
      " - 4s - loss: 0.0195 - acc: 0.9204 - auc: 0.8952 - val_loss: 0.0207 - val_acc: 0.9194 - val_auc: 0.8952\n",
      "Epoch 125/200\n",
      " - 4s - loss: 0.0195 - acc: 0.9202 - auc: 0.8953 - val_loss: 0.0207 - val_acc: 0.9184 - val_auc: 0.8953\n",
      "Epoch 126/200\n",
      " - 4s - loss: 0.0194 - acc: 0.9201 - auc: 0.8953 - val_loss: 0.0205 - val_acc: 0.9169 - val_auc: 0.8953\n",
      "Epoch 127/200\n",
      " - 4s - loss: 0.0195 - acc: 0.9201 - auc: 0.8954 - val_loss: 0.0211 - val_acc: 0.9210 - val_auc: 0.8954\n",
      "Epoch 128/200\n",
      " - 4s - loss: 0.0195 - acc: 0.9202 - auc: 0.8954 - val_loss: 0.0206 - val_acc: 0.9183 - val_auc: 0.8954\n",
      "Epoch 129/200\n",
      " - 4s - loss: 0.0195 - acc: 0.9200 - auc: 0.8955 - val_loss: 0.0205 - val_acc: 0.9185 - val_auc: 0.8955\n",
      "Epoch 130/200\n",
      " - 4s - loss: 0.0194 - acc: 0.9202 - auc: 0.8955 - val_loss: 0.0206 - val_acc: 0.9179 - val_auc: 0.8956\n",
      "Epoch 131/200\n",
      " - 4s - loss: 0.0195 - acc: 0.9202 - auc: 0.8956 - val_loss: 0.0206 - val_acc: 0.9186 - val_auc: 0.8956\n",
      "Epoch 132/200\n",
      " - 4s - loss: 0.0194 - acc: 0.9201 - auc: 0.8956 - val_loss: 0.0207 - val_acc: 0.9185 - val_auc: 0.8957\n",
      "Epoch 133/200\n",
      " - 4s - loss: 0.0194 - acc: 0.9202 - auc: 0.8957 - val_loss: 0.0212 - val_acc: 0.9206 - val_auc: 0.8957\n",
      "Epoch 134/200\n",
      " - 4s - loss: 0.0194 - acc: 0.9200 - auc: 0.8957 - val_loss: 0.0205 - val_acc: 0.9176 - val_auc: 0.8957\n",
      "Epoch 135/200\n",
      " - 4s - loss: 0.0194 - acc: 0.9203 - auc: 0.8958 - val_loss: 0.0205 - val_acc: 0.9173 - val_auc: 0.8958\n",
      "Epoch 136/200\n",
      " - 4s - loss: 0.0194 - acc: 0.9203 - auc: 0.8958 - val_loss: 0.0205 - val_acc: 0.9169 - val_auc: 0.8959\n",
      "Epoch 137/200\n",
      " - 4s - loss: 0.0194 - acc: 0.9202 - auc: 0.8959 - val_loss: 0.0207 - val_acc: 0.9194 - val_auc: 0.8959\n",
      "Epoch 138/200\n",
      " - 4s - loss: 0.0194 - acc: 0.9203 - auc: 0.8959 - val_loss: 0.0206 - val_acc: 0.9178 - val_auc: 0.8960\n",
      "Epoch 139/200\n",
      " - 4s - loss: 0.0194 - acc: 0.9204 - auc: 0.8960 - val_loss: 0.0206 - val_acc: 0.9193 - val_auc: 0.8960\n",
      "Epoch 140/200\n",
      " - 4s - loss: 0.0194 - acc: 0.9202 - auc: 0.8960 - val_loss: 0.0205 - val_acc: 0.9176 - val_auc: 0.8961\n",
      "Epoch 141/200\n",
      " - 4s - loss: 0.0194 - acc: 0.9202 - auc: 0.8961 - val_loss: 0.0205 - val_acc: 0.9177 - val_auc: 0.8961\n",
      "Epoch 142/200\n",
      " - 4s - loss: 0.0194 - acc: 0.9206 - auc: 0.8961 - val_loss: 0.0209 - val_acc: 0.9197 - val_auc: 0.8961\n",
      "Epoch 143/200\n",
      " - 4s - loss: 0.0195 - acc: 0.9202 - auc: 0.8962 - val_loss: 0.0205 - val_acc: 0.9178 - val_auc: 0.8962\n",
      "Epoch 144/200\n",
      " - 4s - loss: 0.0194 - acc: 0.9202 - auc: 0.8962 - val_loss: 0.0205 - val_acc: 0.9167 - val_auc: 0.8962\n",
      "Epoch 145/200\n",
      " - 4s - loss: 0.0194 - acc: 0.9202 - auc: 0.8963 - val_loss: 0.0205 - val_acc: 0.9180 - val_auc: 0.8963\n",
      "Epoch 146/200\n",
      " - 4s - loss: 0.0194 - acc: 0.9204 - auc: 0.8963 - val_loss: 0.0205 - val_acc: 0.9176 - val_auc: 0.8963\n",
      "Epoch 147/200\n",
      " - 4s - loss: 0.0194 - acc: 0.9199 - auc: 0.8964 - val_loss: 0.0208 - val_acc: 0.9196 - val_auc: 0.8964\n",
      "Epoch 148/200\n",
      " - 4s - loss: 0.0194 - acc: 0.9204 - auc: 0.8964 - val_loss: 0.0206 - val_acc: 0.9191 - val_auc: 0.8964\n",
      "Epoch 149/200\n",
      " - 4s - loss: 0.0194 - acc: 0.9206 - auc: 0.8964 - val_loss: 0.0205 - val_acc: 0.9179 - val_auc: 0.8965\n",
      "Epoch 150/200\n",
      " - 4s - loss: 0.0194 - acc: 0.9205 - auc: 0.8965 - val_loss: 0.0210 - val_acc: 0.9132 - val_auc: 0.8965\n",
      "Epoch 151/200\n",
      " - 4s - loss: 0.0194 - acc: 0.9201 - auc: 0.8965 - val_loss: 0.0205 - val_acc: 0.9176 - val_auc: 0.8965\n",
      "Epoch 152/200\n",
      " - 4s - loss: 0.0194 - acc: 0.9204 - auc: 0.8966 - val_loss: 0.0208 - val_acc: 0.9196 - val_auc: 0.8966\n",
      "Epoch 153/200\n",
      " - 4s - loss: 0.0194 - acc: 0.9201 - auc: 0.8966 - val_loss: 0.0205 - val_acc: 0.9166 - val_auc: 0.8966\n",
      "Epoch 154/200\n",
      " - 4s - loss: 0.0194 - acc: 0.9206 - auc: 0.8967 - val_loss: 0.0207 - val_acc: 0.9197 - val_auc: 0.8967\n",
      "Epoch 155/200\n",
      " - 4s - loss: 0.0194 - acc: 0.9202 - auc: 0.8967 - val_loss: 0.0205 - val_acc: 0.9181 - val_auc: 0.8967\n",
      "Epoch 156/200\n",
      " - 4s - loss: 0.0194 - acc: 0.9202 - auc: 0.8967 - val_loss: 0.0205 - val_acc: 0.9173 - val_auc: 0.8968\n",
      "Epoch 157/200\n",
      " - 4s - loss: 0.0194 - acc: 0.9205 - auc: 0.8968 - val_loss: 0.0206 - val_acc: 0.9192 - val_auc: 0.8968\n",
      "Epoch 158/200\n",
      " - 4s - loss: 0.0194 - acc: 0.9206 - auc: 0.8968 - val_loss: 0.0207 - val_acc: 0.9161 - val_auc: 0.8968\n",
      "Epoch 159/200\n",
      " - 4s - loss: 0.0194 - acc: 0.9200 - auc: 0.8969 - val_loss: 0.0207 - val_acc: 0.9188 - val_auc: 0.8969\n",
      "Epoch 160/200\n",
      " - 4s - loss: 0.0194 - acc: 0.9205 - auc: 0.8969 - val_loss: 0.0208 - val_acc: 0.9199 - val_auc: 0.8969\n",
      "Epoch 161/200\n",
      " - 4s - loss: 0.0194 - acc: 0.9205 - auc: 0.8969 - val_loss: 0.0206 - val_acc: 0.9183 - val_auc: 0.8970\n",
      "Epoch 162/200\n",
      " - 4s - loss: 0.0194 - acc: 0.9205 - auc: 0.8970 - val_loss: 0.0206 - val_acc: 0.9191 - val_auc: 0.8970\n",
      "Epoch 163/200\n",
      " - 4s - loss: 0.0194 - acc: 0.9206 - auc: 0.8970 - val_loss: 0.0206 - val_acc: 0.9187 - val_auc: 0.8970\n",
      "Epoch 164/200\n",
      " - 4s - loss: 0.0194 - acc: 0.9204 - auc: 0.8971 - val_loss: 0.0206 - val_acc: 0.9189 - val_auc: 0.8971\n",
      "Epoch 165/200\n",
      " - 4s - loss: 0.0194 - acc: 0.9204 - auc: 0.8971 - val_loss: 0.0209 - val_acc: 0.9200 - val_auc: 0.8971\n",
      "Epoch 166/200\n",
      " - 4s - loss: 0.0194 - acc: 0.9210 - auc: 0.8971 - val_loss: 0.0205 - val_acc: 0.9179 - val_auc: 0.8971\n",
      "Epoch 167/200\n",
      " - 4s - loss: 0.0193 - acc: 0.9199 - auc: 0.8972 - val_loss: 0.0206 - val_acc: 0.9187 - val_auc: 0.8972\n",
      "Epoch 168/200\n",
      " - 4s - loss: 0.0194 - acc: 0.9204 - auc: 0.8972 - val_loss: 0.0206 - val_acc: 0.9188 - val_auc: 0.8972\n",
      "Epoch 169/200\n",
      " - 4s - loss: 0.0194 - acc: 0.9205 - auc: 0.8972 - val_loss: 0.0207 - val_acc: 0.9189 - val_auc: 0.8973\n",
      "Epoch 170/200\n",
      " - 4s - loss: 0.0194 - acc: 0.9205 - auc: 0.8973 - val_loss: 0.0206 - val_acc: 0.9181 - val_auc: 0.8973\n",
      "Epoch 171/200\n",
      " - 4s - loss: 0.0193 - acc: 0.9206 - auc: 0.8973 - val_loss: 0.0205 - val_acc: 0.9183 - val_auc: 0.8973\n",
      "Epoch 172/200\n",
      " - 4s - loss: 0.0193 - acc: 0.9201 - auc: 0.8973 - val_loss: 0.0208 - val_acc: 0.9202 - val_auc: 0.8974\n",
      "Epoch 173/200\n",
      " - 4s - loss: 0.0193 - acc: 0.9205 - auc: 0.8974 - val_loss: 0.0206 - val_acc: 0.9186 - val_auc: 0.8974\n",
      "Epoch 174/200\n",
      " - 4s - loss: 0.0193 - acc: 0.9206 - auc: 0.8974 - val_loss: 0.0205 - val_acc: 0.9172 - val_auc: 0.8974\n",
      "Epoch 175/200\n",
      " - 4s - loss: 0.0194 - acc: 0.9208 - auc: 0.8975 - val_loss: 0.0206 - val_acc: 0.9184 - val_auc: 0.8975\n",
      "Epoch 176/200\n",
      " - 4s - loss: 0.0193 - acc: 0.9209 - auc: 0.8975 - val_loss: 0.0205 - val_acc: 0.9175 - val_auc: 0.8975\n",
      "Epoch 177/200\n",
      " - 4s - loss: 0.0193 - acc: 0.9204 - auc: 0.8975 - val_loss: 0.0206 - val_acc: 0.9190 - val_auc: 0.8975\n",
      "Epoch 178/200\n",
      " - 4s - loss: 0.0193 - acc: 0.9206 - auc: 0.8976 - val_loss: 0.0205 - val_acc: 0.9177 - val_auc: 0.8976\n",
      "Epoch 179/200\n",
      " - 4s - loss: 0.0193 - acc: 0.9204 - auc: 0.8976 - val_loss: 0.0206 - val_acc: 0.9184 - val_auc: 0.8976\n",
      "Epoch 180/200\n",
      " - 4s - loss: 0.0193 - acc: 0.9205 - auc: 0.8976 - val_loss: 0.0206 - val_acc: 0.9183 - val_auc: 0.8976\n",
      "Epoch 181/200\n",
      " - 4s - loss: 0.0193 - acc: 0.9205 - auc: 0.8977 - val_loss: 0.0205 - val_acc: 0.9178 - val_auc: 0.8977\n",
      "Epoch 182/200\n",
      " - 4s - loss: 0.0193 - acc: 0.9206 - auc: 0.8977 - val_loss: 0.0205 - val_acc: 0.9181 - val_auc: 0.8977\n",
      "Epoch 183/200\n",
      " - 4s - loss: 0.0193 - acc: 0.9204 - auc: 0.8977 - val_loss: 0.0206 - val_acc: 0.9165 - val_auc: 0.8977\n",
      "Epoch 184/200\n",
      " - 4s - loss: 0.0193 - acc: 0.9207 - auc: 0.8978 - val_loss: 0.0205 - val_acc: 0.9181 - val_auc: 0.8978\n",
      "Epoch 185/200\n",
      " - 4s - loss: 0.0193 - acc: 0.9204 - auc: 0.8978 - val_loss: 0.0207 - val_acc: 0.9191 - val_auc: 0.8978\n",
      "Epoch 186/200\n",
      " - 4s - loss: 0.0193 - acc: 0.9207 - auc: 0.8978 - val_loss: 0.0205 - val_acc: 0.9181 - val_auc: 0.8978\n",
      "Epoch 187/200\n",
      " - 4s - loss: 0.0193 - acc: 0.9207 - auc: 0.8979 - val_loss: 0.0210 - val_acc: 0.9201 - val_auc: 0.8979\n",
      "Epoch 188/200\n",
      " - 4s - loss: 0.0193 - acc: 0.9208 - auc: 0.8979 - val_loss: 0.0206 - val_acc: 0.9188 - val_auc: 0.8979\n",
      "Epoch 189/200\n",
      " - 4s - loss: 0.0193 - acc: 0.9205 - auc: 0.8979 - val_loss: 0.0206 - val_acc: 0.9184 - val_auc: 0.8979\n",
      "Epoch 190/200\n",
      " - 4s - loss: 0.0193 - acc: 0.9205 - auc: 0.8979 - val_loss: 0.0205 - val_acc: 0.9181 - val_auc: 0.8980\n",
      "Epoch 191/200\n",
      " - 4s - loss: 0.0193 - acc: 0.9208 - auc: 0.8980 - val_loss: 0.0205 - val_acc: 0.9173 - val_auc: 0.8980\n",
      "Epoch 192/200\n",
      " - 4s - loss: 0.0193 - acc: 0.9206 - auc: 0.8980 - val_loss: 0.0205 - val_acc: 0.9179 - val_auc: 0.8980\n",
      "Epoch 193/200\n",
      " - 4s - loss: 0.0193 - acc: 0.9207 - auc: 0.8980 - val_loss: 0.0209 - val_acc: 0.9200 - val_auc: 0.8980\n",
      "Epoch 194/200\n",
      " - 4s - loss: 0.0193 - acc: 0.9204 - auc: 0.8981 - val_loss: 0.0207 - val_acc: 0.9193 - val_auc: 0.8981\n",
      "Epoch 195/200\n",
      " - 4s - loss: 0.0193 - acc: 0.9208 - auc: 0.8981 - val_loss: 0.0205 - val_acc: 0.9174 - val_auc: 0.8981\n",
      "Epoch 196/200\n",
      " - 4s - loss: 0.0193 - acc: 0.9205 - auc: 0.8981 - val_loss: 0.0206 - val_acc: 0.9182 - val_auc: 0.8981\n",
      "Epoch 197/200\n",
      " - 4s - loss: 0.0193 - acc: 0.9210 - auc: 0.8982 - val_loss: 0.0205 - val_acc: 0.9178 - val_auc: 0.8982\n",
      "Epoch 198/200\n",
      " - 4s - loss: 0.0193 - acc: 0.9207 - auc: 0.8982 - val_loss: 0.0207 - val_acc: 0.9187 - val_auc: 0.8982\n",
      "Epoch 199/200\n",
      " - 4s - loss: 0.0193 - acc: 0.9205 - auc: 0.8982 - val_loss: 0.0206 - val_acc: 0.9181 - val_auc: 0.8982\n",
      "Epoch 200/200\n",
      " - 4s - loss: 0.0193 - acc: 0.9207 - auc: 0.8982 - val_loss: 0.0205 - val_acc: 0.9172 - val_auc: 0.8982\n"
     ]
    }
   ],
   "source": [
    "epochs = 200\n",
    "history = model_nn.fit(x_train,\n",
    "                    y_train,\n",
    "                    epochs=epochs,\n",
    "                    verbose=2,\n",
    "                    batch_size=2048,\n",
    "                    callbacks=callbacks,\n",
    "                    validation_data= (x_val,y_val),\n",
    "                    shuffle=True)"
   ]
  },
  {
   "cell_type": "markdown",
   "metadata": {
    "_uuid": "120eea00c72afcb365343900874cd920890bc88b"
   },
   "source": [
    "## Evaluation"
   ]
  },
  {
   "cell_type": "code",
   "execution_count": 13,
   "metadata": {
    "_uuid": "052110edc04dde821cf6903c1b5dc9b7e17401fc"
   },
   "outputs": [
    {
     "name": "stdout",
     "output_type": "stream",
     "text": [
      " Confusion metrix \n",
      "[[59130   238]\n",
      " [ 5228  1404]]\n",
      " Prediction accuracy:91.718182% Prediction auc:89.407959% Baseline accuracy:89.951515%  \n"
     ]
    },
    {
     "data": {
      "image/png": "[encoded data removed]",
      "text/plain": [
       "<Figure size 1440x360 with 2 Axes>"
      ]
     },
     "metadata": {},
     "output_type": "display_data"
    }
   ],
   "source": [
    "y_pred = model_nn.predict(x_val)\n",
    "predictions = np.round(y_pred)\n",
    "\n",
    "print(\" Confusion metrix \")\n",
    "print(confusion_matrix(y_val,predictions))\n",
    "print(\" Prediction accuracy:%2f%% Prediction auc:%2f%% Baseline accuracy:%2f%%  \" %((accuracy_score(y_val,predictions)*100.00) ,roc_auc_score(y_val,y_pred)*100.00 ,((1-np.sum(y_val)/len(predictions))*100)))\n",
    "\n",
    "x_axis = range(0,np.max(history.epoch)+1)\n",
    "\n",
    "fig, axes = plt.subplots(ncols=2,nrows=1, figsize=(20,5))\n",
    "\n",
    "axes[0].plot(x_axis,history.history['loss'],label='Train')\n",
    "axes[0].plot(x_axis,history.history['val_loss'],label='Test')\n",
    "axes[0].legend()\n",
    "axes[0].set_ylabel('loss')\n",
    "axes[0].set_title('nn log loss')\n",
    "\n",
    "# plot classificaton error\n",
    "axes[1].plot(x_axis,history.history['auc'],label='Train')\n",
    "axes[1].plot(x_axis,history.history['val_auc'],label='Val')\n",
    "axes[1].legend()\n",
    "axes[1].set_ylabel('Classification auc')\n",
    "axes[1].set_title('nn Classification auc')\n",
    "\n",
    "plt.show()"
   ]
  },
  {
   "cell_type": "markdown",
   "metadata": {
    "_uuid": "79d3d4d0cb87446d95d3f17ee2aef6286002dcde"
   },
   "source": [
    "## Submission"
   ]
  },
  {
   "cell_type": "code",
   "execution_count": 14,
   "metadata": {
    "_uuid": "fc8876803070a607cafb9605619f6177e639fe11"
   },
   "outputs": [],
   "source": [
    "submission = full_df.loc[~full_df.isTrain,['ID_code','target']]\n",
    "submission['target'] = model_nn.predict(x_test)\n",
    "submission.to_csv('submission.csv',index=False)"
   ]
  }
 ],
 "metadata": {
  "kernelspec": {
   "display_name": "Python 3",
   "language": "python",
   "name": "python3"
  },
  "language_info": {
   "codemirror_mode": {
    "name": "ipython",
    "version": 3
   },
   "file_extension": ".py",
   "mimetype": "text/x-python",
   "name": "python",
   "nbconvert_exporter": "python",
   "pygments_lexer": "ipython3",
   "version": "3.6.6"
  }
 },
 "nbformat": 4,
 "nbformat_minor": 1
}
